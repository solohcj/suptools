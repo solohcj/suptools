{
 "cells": [
  {
   "cell_type": "code",
   "execution_count": null,
   "metadata": {},
   "outputs": [],
   "source": [
    "#hide\n",
    "from suptools.core import *"
   ]
  },
  {
   "cell_type": "markdown",
   "metadata": {},
   "source": [
    "# suptools\n",
    "\n",
    "> A collection of supporting functions"
   ]
  },
  {
   "cell_type": "markdown",
   "metadata": {},
   "source": [
    "## Install"
   ]
  },
  {
   "cell_type": "markdown",
   "metadata": {},
   "source": [
    "### Use in Google Colab\n",
    "`!pip install git+https://github.com/yoke2/suptools.git`"
   ]
  },
  {
   "cell_type": "markdown",
   "metadata": {},
   "source": [
    "## Dependencies"
   ]
  },
  {
   "cell_type": "markdown",
   "metadata": {},
   "source": [
    "You will notice that there are needed packages per module but minimal dependencies specified.\n",
    "  \n",
    "Additional packages needed\n",
    "- imgtools\n",
    "    - requests\n",
    "    - pillow\n",
    "    - tqdm\n",
    "    - tensorflow==2.0.0\n",
    "- tftools\n",
    "    - matplotlib\n",
    "    - tensorflow==2.0.0\n",
    "    - tensorflow-addons"
   ]
  },
  {
   "cell_type": "markdown",
   "metadata": {},
   "source": [
    "## How to use and References"
   ]
  },
  {
   "cell_type": "markdown",
   "metadata": {},
   "source": [
    "Please refer to the sub-modules of tools for usage and source reference links."
   ]
  }
 ],
 "metadata": {
  "kernelspec": {
   "display_name": "Python 3",
   "language": "python",
   "name": "python3"
  }
 },
 "nbformat": 4,
 "nbformat_minor": 2
}
