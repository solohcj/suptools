{
 "cells": [
  {
   "cell_type": "code",
   "execution_count": null,
   "metadata": {},
   "outputs": [],
   "source": [
    "#hide\n",
    "from suptools.core import *"
   ]
  },
  {
   "cell_type": "markdown",
   "metadata": {},
   "source": [
    "# suptools\n",
    "\n",
    "> A collection of supporting functions"
   ]
  },
  {
   "cell_type": "markdown",
   "metadata": {},
   "source": [
    "## Install"
   ]
  },
  {
   "cell_type": "markdown",
   "metadata": {},
   "source": [
    "### Use in Google Colab\n",
    "`!pip install git+https://github.com/yoke2/suptools.git`"
   ]
  },
  {
   "cell_type": "markdown",
   "metadata": {},
   "source": [
    "## Dependencies"
   ]
  },
  {
   "cell_type": "markdown",
   "metadata": {},
   "source": [
    "You will notice that there are only minimal packages required by default. Use of other modules/functions will require additional dependencies as follows.\n",
    "  \n",
    "Requirements\n",
    "- core\n",
    "    - pathlib\n",
    "\n",
    "Additional Requirements\n",
    "- imgtools\n",
    "    - requests\n",
    "    - pillow\n",
    "    - tqdm\n",
    "    - tensorflow>=2.0.0\n",
    "- tftools\n",
    "    - tensorflow>=2.0.0"
   ]
  },
  {
   "cell_type": "markdown",
   "metadata": {},
   "source": [
    "## How to use and References"
   ]
  },
  {
   "cell_type": "markdown",
   "metadata": {},
   "source": [
    "Please refer to the sub-modules of tools for usage and source reference links."
   ]
  }
 ],
 "metadata": {
  "kernelspec": {
   "display_name": "Python 3",
   "language": "python",
   "name": "python3"
  }
 },
 "nbformat": 4,
 "nbformat_minor": 2
}
