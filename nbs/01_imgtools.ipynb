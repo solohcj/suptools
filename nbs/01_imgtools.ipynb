{
 "cells": [
  {
   "cell_type": "code",
   "execution_count": null,
   "metadata": {},
   "outputs": [],
   "source": [
    "# default_exp imgtools"
   ]
  },
  {
   "cell_type": "markdown",
   "metadata": {},
   "source": [
    "# imgtools\n",
    "\n",
    "> Functions for handling images"
   ]
  },
  {
   "cell_type": "code",
   "execution_count": null,
   "metadata": {},
   "outputs": [],
   "source": [
    "#hide\n",
    "from nbdev.showdoc import *"
   ]
  },
  {
   "cell_type": "code",
   "execution_count": null,
   "metadata": {},
   "outputs": [],
   "source": [
    "#export\n",
    "from suptools import *\n",
    "from multiprocessing.pool import ThreadPool\n",
    "from functools import partial\n",
    "import pathlib\n",
    "import urllib\n",
    "import tqdm\n",
    "import PIL\n",
    "import warnings\n",
    "import uuid\n",
    "import requests"
   ]
  },
  {
   "cell_type": "markdown",
   "metadata": {},
   "source": [
    "## References  \n",
    "Functions `download_images` and `verify_images` functions are based on the below sources. Please visit attached links for further understanding.\n",
    "- fastai library by Jeremy Howard and contributors: [Building your own dataset documentation](https://docs.fast.ai/vision.data.html#Building-your-own-dataset)\n",
    "- Blog post by Mark Needham: [Parallel download files using requests](https://markhneedham.com/blog/2018/07/15/python-parallel-download-files-requests/)"
   ]
  },
  {
   "cell_type": "markdown",
   "metadata": {},
   "source": [
    "## Download"
   ]
  },
  {
   "cell_type": "code",
   "execution_count": null,
   "metadata": {},
   "outputs": [],
   "source": [
    "#export\n",
    "def download_image(dest, url, timeout=5):\n",
    "    \"\"\"\n",
    "    Downloads an image from url to destination file path (pathlib.Path object).\n",
    "    Tries to detect and preserve original suffix and defaults to '.jpg' if none \n",
    "    Assigns a randomly generated filename to avoid name clashes.\n",
    "    \"\"\"\n",
    "    tmp = urllib.parse.urlparse(url)\n",
    "    suffix = pathlib.Path(tmp.path).suffix\n",
    "    if suffix == '':\n",
    "        suffix = '.jpg'\n",
    "    stem = str(uuid.uuid4())\n",
    "    local_file = dest/f'{stem + suffix}'\n",
    "    result = ''\n",
    "    user_agent = 'Mozilla/5.0 (X11; Ubuntu; Linux x86_64; rv:71.0) Gecko/20100101 Firefox/71.0'\n",
    "    try:\n",
    "        r = requests.get(url, stream=True, timeout=5, headers={\"User-Agent\": user_agent})\n",
    "        if r.status_code == 200:\n",
    "            with open(local_file, 'wb') as f:\n",
    "                for chunk in r:\n",
    "                    f.write(chunk)\n",
    "            result = f\"Success: {local_file}. Downloaded {url}\"\n",
    "        else:\n",
    "            result = f\"Failed: Can't download {url}\"\n",
    "    except Exception as e:\n",
    "        result = f\"Failed: Can't download {url}. Exception: {str(e)}\"\n",
    "        \n",
    "    return result"
   ]
  },
  {
   "cell_type": "markdown",
   "metadata": {},
   "source": [
    "Additional links on user agents to handle HTTP 406:\n",
    "- [Python Requests HTTP Response 406](https://stackoverflow.com/questions/56101612/python-requests-http-response-406)\n",
    "- [Detect your user agent by whatismybrowser.com](https://www.whatismybrowser.com/detect/what-is-my-user-agent)"
   ]
  },
  {
   "cell_type": "code",
   "execution_count": null,
   "metadata": {},
   "outputs": [],
   "source": [
    "#export\n",
    "def download_images(url_file_path, dest, n_threads=4, timeout=5):\n",
    "    \"\"\"\n",
    "    Downloads images from list of urls.\n",
    "    Makes use of multiprocessing library to support concurrent downloads if supported by CPU.\n",
    "    Visualizes progress using tqdm.\n",
    "    \"\"\"\n",
    "    urls = pathlib.Path(url_file_path).read_text().strip().split(\"\\n\")\n",
    "    dest = pathlib.Path(dest)\n",
    "    dest.mkdir(exist_ok=True, parents=True)\n",
    "    results = []\n",
    "    for x in tqdm.tqdm_notebook(\n",
    "        ThreadPool(n_threads).imap_unordered(\n",
    "            partial(download_image, dest, timeout=timeout), \n",
    "            urls), total=len(urls)):\n",
    "        results.append(x)\n",
    "    return results"
   ]
  },
  {
   "cell_type": "markdown",
   "metadata": {},
   "source": [
    "## Verify"
   ]
  },
  {
   "cell_type": "code",
   "execution_count": null,
   "metadata": {},
   "outputs": [],
   "source": [
    "#export\n",
    "def verify_image_tf(img_file):\n",
    "    \"\"\"\n",
    "    Verifies if an image can be opened by tf.image module\n",
    "    tf.image currently supports only BMP, JPEG, GIF and PNG.\n",
    "    Function attempts to convert non-supported formats to JPEG.\n",
    "    If the image cannot be opened or converted, it is deleted.\n",
    "    \"\"\"\n",
    "    try:\n",
    "        import tensorflow as tf\n",
    "        import PIL\n",
    "        warnings.simplefilter(\"ignore\")\n",
    "        suffix = img_file.suffix\n",
    "        if suffix.lower() not in ['.bmp', '.jpeg', '.jpg', '.gif', '.png']:\n",
    "            renamed = img_file.parent/f'{img_file.name+\".jpg\"}'\n",
    "            PIL.Image.open(img_file).save(renamed, \"JPEG\")\n",
    "            img_file.unlink()\n",
    "            print(f\"File converted: {renamed}\")\n",
    "            img_file = renamed\n",
    "        img = tf.io.read_file(str(img_file))\n",
    "        img = tf.image.decode_image(img, channels=3, expand_animations=False)\n",
    "    except Exception as e:\n",
    "        print(f'Failed: Deleting {str(img_file)}: {e}')\n",
    "        img_file.unlink()"
   ]
  },
  {
   "cell_type": "code",
   "execution_count": null,
   "metadata": {},
   "outputs": [],
   "source": [
    "#export\n",
    "def verify_images(file_path, n_threads=4, recurse=False):\n",
    "    \"\"\"\n",
    "    Verifies images from file path.\n",
    "    Makes use of multiprocessing library to support concurrent verification if supported by CPU.\n",
    "    Visualizes progress using tqdm.\n",
    "    \"\"\"\n",
    "    path = pathlib.Path(file_path)\n",
    "    files = get_all_files(file_path, recurse=recurse)\n",
    "    for x in tqdm.tqdm_notebook(\n",
    "        ThreadPool(n_threads).imap_unordered(\n",
    "            verify_image_tf, \n",
    "            files), total=len(files)):\n",
    "        pass"
   ]
  },
  {
   "cell_type": "code",
   "execution_count": null,
   "metadata": {},
   "outputs": [
    {
     "name": "stdout",
     "output_type": "stream",
     "text": [
      "Converted 00_core.ipynb.\n",
      "Converted 01_imgtools.ipynb.\n",
      "Converted 02_tftools.ipynb.\n",
      "Converted index.ipynb.\n"
     ]
    }
   ],
   "source": [
    "#hide\n",
    "from nbdev.export import *\n",
    "notebook2script()"
   ]
  },
  {
   "cell_type": "code",
   "execution_count": null,
   "metadata": {},
   "outputs": [],
   "source": []
  }
 ],
 "metadata": {
  "kernelspec": {
   "display_name": "Python 3",
   "language": "python",
   "name": "python3"
  }
 },
 "nbformat": 4,
 "nbformat_minor": 2
}
